{
 "cells": [
  {
   "cell_type": "code",
   "execution_count": 81,
   "id": "f43081fb",
   "metadata": {},
   "outputs": [],
   "source": [
    "import math"
   ]
  },
  {
   "cell_type": "markdown",
   "id": "6cae61bf",
   "metadata": {},
   "source": [
    "Aritmética simples"
   ]
  },
  {
   "cell_type": "code",
   "execution_count": null,
   "id": "cc4b87db",
   "metadata": {},
   "outputs": [
    {
     "name": "stdout",
     "output_type": "stream",
     "text": [
      "Área do Retangulo\n",
      "A área do retângulo é 4.0 \n",
      "\n"
     ]
    }
   ],
   "source": [
    "# 1.1\n",
    "\n",
    "print(\"Área do Retangulo\")\n",
    "base_retangulo = float(input(\"Digite a base: \"))\n",
    "altura_retangulo = float(input(\"Digite a altura: \"))\n",
    "area_retangulo = base_retangulo * altura_retangulo\n",
    "\n",
    "print(\"A área do retângulo é\", area_retangulo, \"\\n\")"
   ]
  },
  {
   "cell_type": "code",
   "execution_count": 3,
   "id": "b4269f8c",
   "metadata": {},
   "outputs": [
    {
     "name": "stdout",
     "output_type": "stream",
     "text": [
      "Área do Quadrado\n",
      "A área do quadrado é 4.0 \n",
      "\n"
     ]
    }
   ],
   "source": [
    "#1.2\n",
    "\n",
    "print(\"Área do Quadrado\")\n",
    "aresta_quadrado = float(input(\"Digite a aresta: \"))\n",
    "area_quadradov1 = aresta_quadrado * aresta_quadrado\n",
    "\n",
    "print(\"A área do quadrado é\", area_quadradov1, \"\\n\")"
   ]
  },
  {
   "cell_type": "code",
   "execution_count": null,
   "id": "b9b16cf7",
   "metadata": {},
   "outputs": [],
   "source": [
    "#1.3\n",
    "\n",
    "print(\"Área do Quadrado\")\n",
    "diagonal_quadrado = float(input(\"Digite a diagonal: \"))\n",
    "area_quadradov2 = diagonal_quadrado * diagonal_quadrado / 2\n",
    "\n",
    "print(\"A área do quadrado é\", area_quadradov2, \"\\n\")"
   ]
  },
  {
   "cell_type": "code",
   "execution_count": null,
   "id": "51806d67",
   "metadata": {},
   "outputs": [],
   "source": [
    "#1.4\n",
    "\n",
    "print(\"Área do Triângulo\")\n",
    "base_triangulo = float(input(\"Digite a base: \"))\n",
    "altura_triangulo = float(input(\"Digite a altura: \"))\n",
    "area_triangulo = base_triangulo * altura_triangulo / 2\n",
    "\n",
    "print(\"A área do triângulo é\", area_triangulo, \"\\n\")"
   ]
  },
  {
   "cell_type": "code",
   "execution_count": null,
   "id": "f898efc0",
   "metadata": {},
   "outputs": [],
   "source": [
    "#1.5\n",
    "\n",
    "print(\"Volume da Esfera\")\n",
    "diametro_esfera = float(input(\"Digite o diâmetro: \"))\n",
    "raio_esfera = float(diametro_esfera) / 2\n",
    "volume_esfera = 4 * 3.14 * raio_esfera * raio_esfera * raio_esfera / 3\n",
    "\n",
    "print(\"O volume da esfera é\", volume_esfera, \"\\n\")"
   ]
  },
  {
   "cell_type": "code",
   "execution_count": null,
   "id": "a41f265a",
   "metadata": {},
   "outputs": [],
   "source": [
    "#1.6\n",
    "\n",
    "print(\"Área do Círculo\")\n",
    "diametro_circulo = float(input(\"Digite o diâmetro: \"))\n",
    "raio_circulo = diametro_circulo / 2\n",
    "area_circulo = 3.14 * raio_circulo * raio_circulo\n",
    "\n",
    "print(\"A área do círculo é\", area_circulo, \"\\n\")"
   ]
  },
  {
   "cell_type": "code",
   "execution_count": null,
   "id": "fa7ed83e",
   "metadata": {},
   "outputs": [],
   "source": [
    "#1.7\n",
    "\n",
    "print(\"Volume do Cone\")\n",
    "altura_cone = float(input(\"Digite a altura: \"))\n",
    "raio_cone = float(input(\"Digite o raio: \"))\n",
    "volume_cone = altura_cone * 3.14 * raio_cone * raio_cone / 3\n",
    "\n",
    "print(\"O volume do cone é\", volume_cone, \"\\n\")"
   ]
  },
  {
   "cell_type": "code",
   "execution_count": null,
   "id": "d614e1f3",
   "metadata": {},
   "outputs": [],
   "source": [
    "#1.8\n",
    "\n",
    "print(\"Volume do Cubo menos Esfera\")\n",
    "aresta_cubo = float(input(\"Digite a aresta: \"))\n",
    "raio_esfera = float(input(\"Digite o raio: \"))\n",
    "volume_cubo = aresta_cubo * aresta_cubo * aresta_cubo\n",
    "volume_esferav2 = 4 * 3.14 * raio_esfera * raio_esfera * raio_esfera / 3\n",
    "volume_final = volume_cubo - volume_esferav2\n",
    "\n",
    "print(\"O volume final é\", volume_final, \"\\n\")"
   ]
  },
  {
   "cell_type": "code",
   "execution_count": null,
   "id": "748b3ed1",
   "metadata": {},
   "outputs": [],
   "source": [
    "#1.9\n",
    "\n",
    "print(\"Média Aritmética\")\n",
    "mediaA1 = float(input(\"Digite o primeiro número: \"))\n",
    "mediaA2 = float(input(\"Digite o segundo número: \"))\n",
    "mediaA3 = float(input(\"Digite o terceiro número: \"))\n",
    "mediaA4 = float(input(\"Digite o quarto número: \"))\n",
    "media_aritmetica = (mediaA1 + mediaA2 + mediaA3 + mediaA4) / 4\n",
    "\n",
    "print(\"A média aritmética é\", media_aritmetica, \"\\n\")"
   ]
  },
  {
   "cell_type": "code",
   "execution_count": null,
   "id": "5acd26f7",
   "metadata": {},
   "outputs": [],
   "source": [
    "#1.10\n",
    "\n",
    "print(\"Média Geométrica\")\n",
    "mediaG1 = float(input(\"Digite o primeiro número: \"))\n",
    "mediaG2 = float(input(\"Digite o segundo número: \"))\n",
    "media_geometrica = math.sqrt(mediaG1 * mediaG2)\n",
    "\n",
    "print(\"A média geométrica é\", media_geometrica, \"\\n\")"
   ]
  },
  {
   "cell_type": "code",
   "execution_count": null,
   "id": "e2735976",
   "metadata": {},
   "outputs": [],
   "source": [
    "#1.11\n",
    "\n",
    "print(\"Milhas marítimas para Km\")\n",
    "milhas = float(input(\"Digite as milhas: \"))\n",
    "km = milhas * 1.852\n",
    "\n",
    "print(\"O valor em km é\", km, \"\\n\")"
   ]
  },
  {
   "cell_type": "code",
   "execution_count": null,
   "id": "7bf3217f",
   "metadata": {},
   "outputs": [],
   "source": [
    "#1.12\n",
    "\n",
    "print(\"Lei de Ohm\")\n",
    "ohms = float(input(\"Digite a resistência: \"))\n",
    "amperes = float(input(\"Digite a corrente: \"))\n",
    "volts = ohms * amperes\n",
    "\n",
    "print(\"A tensão é\", volts, \"Volts \\n\")"
   ]
  },
  {
   "cell_type": "code",
   "execution_count": 2,
   "id": "4b079df7",
   "metadata": {},
   "outputs": [
    {
     "name": "stdout",
     "output_type": "stream",
     "text": [
      "Celcius para Fahrenheit\n",
      "A temperatura em Fahrenheit é 50.0 \n",
      "\n"
     ]
    }
   ],
   "source": [
    "#1.13\n",
    "\n",
    "print(\"Celcius para Fahrenheit\")\n",
    "celcius = float(input(\"Digite a temperatura em graus Celcius: \"))\n",
    "fahrenheit = celcius * 1.8 + 32\n",
    "\n",
    "print(\"A temperatura em Fahrenheit é\", fahrenheit, \"\\n\")"
   ]
  },
  {
   "cell_type": "code",
   "execution_count": 1,
   "id": "3fc7dc14",
   "metadata": {},
   "outputs": [
    {
     "name": "stdout",
     "output_type": "stream",
     "text": [
      "Velocidade final\n",
      "A velocidade final é 72.0 Km/h \n",
      "\n"
     ]
    }
   ],
   "source": [
    "#1.14\n",
    "\n",
    "print(\"Velocidade final\")\n",
    "velocidade_inicial = float(input(\"Digite a velocidade inicial em m/s: \"))\n",
    "aceleracao = float(input(\"Digite a aceleração em m/s²: \"))\n",
    "tempo_percurso = float(input(\"Digite o tempo do percurso em segundos: \"))\n",
    "velocidade_final = (velocidade_inicial + aceleracao * tempo_percurso) * 3.6\n",
    "\n",
    "print(\"A velocidade final é\", velocidade_final, \"Km/h \\n\")"
   ]
  },
  {
   "cell_type": "code",
   "execution_count": 9,
   "id": "ffce412c",
   "metadata": {},
   "outputs": [
    {
     "name": "stdout",
     "output_type": "stream",
     "text": [
      "Cotação do dólar\n",
      "O valor, em reais, é R$ 56.5 \n",
      "\n"
     ]
    }
   ],
   "source": [
    "#1.15\n",
    "\n",
    "print(\"Cotação do dólar\")\n",
    "cotacao = float(input(\"Digite a cotação atual de um dólar em reais: \"))\n",
    "quantia_reais = float(input(\"Digite o valor a ser convertido para reais: \"))\n",
    "valor_convertido = quantia_reais * cotacao \n",
    "\n",
    "print(\"O valor, em reais, é R$\",valor_convertido, \"\\n\")"
   ]
  },
  {
   "cell_type": "code",
   "execution_count": 23,
   "id": "ce56f269",
   "metadata": {},
   "outputs": [
    {
     "name": "stdout",
     "output_type": "stream",
     "text": [
      "Funções trigonométricas\n",
      "O seno de 90.0 grau(s), é 1.0\n",
      "O cosseno de 90.0 grau(s), é 0.0\n",
      "A tangente de 90.0 grau(s), é 1.633123935319537e+16\n",
      "A secante de 90.0 grau(s), é 1.633123935319537e+16\n"
     ]
    }
   ],
   "source": [
    "#1.16\n",
    "\n",
    "print(\"Funções trigonométricas\")\n",
    "angulograu = float(input(\"Digite o ângulo em graus: \"))\n",
    "angulorad = angulograu * math.pi / 180\n",
    "print(\"O seno de\", angulograu, \"grau(s), é\", round(math.sin(angulorad), 2))\n",
    "print(\"O cosseno de\", angulograu, \"grau(s), é\", round(math.cos(angulorad), 2))\n",
    "print(\"A tangente de\", angulograu, \"grau(s), é\", round(math.tan(angulorad), 2))\n",
    "print(\"A secante de\", angulograu, \"grau(s), é\", round(1/math.cos(angulorad), 2))"
   ]
  },
  {
   "cell_type": "code",
   "execution_count": null,
   "id": "da4cd13d",
   "metadata": {},
   "outputs": [
    {
     "name": "stdout",
     "output_type": "stream",
     "text": [
      "Exponencial\n",
      "2.0 elevado a 3.0 resulta em 8.0\n",
      "Com log natural:\n",
      "2.0 elevado a 3.0 resulta em 8.0\n"
     ]
    }
   ],
   "source": [
    "#1.17\n",
    "\n",
    "print(\"Exponencial\")\n",
    "num1 = float(input(\"Digite o primeiro numero: \"))\n",
    "num2 = float(input(\"Digite o segundo numero: \"))\n",
    "elevado = num1 ** num2 \n",
    "\n",
    "print(num1, \"elevado a\", num2, \"resulta em\", elevado)\n",
    "\n",
    "print(\"Com log natural\")\n",
    "\n",
    "elevadoln = round(math.e ** (num2 * math.log(num1)), 2)\n",
    "\n",
    "print(num1, \"elevado a\", num2, \"resulta em\", elevadoln)"
   ]
  },
  {
   "cell_type": "code",
   "execution_count": 42,
   "id": "e8c2be8f",
   "metadata": {},
   "outputs": [
    {
     "name": "stdout",
     "output_type": "stream",
     "text": [
      "Compra e troco\n",
      "Total: 15.0 , digite o valor do pagamento\n",
      "O troco é de R$ 5.0\n"
     ]
    }
   ],
   "source": [
    "#1.18 v1, com ciclo for\n",
    "\n",
    "print(\"Compra e troco\")\n",
    "produtos = [0,0,0,0,0]\n",
    "total = float(0)\n",
    "for i in range (5):\n",
    "    produtos[i] = float(input(\"Digite o valor do produto: \"))\n",
    "    total += produtos[i]\n",
    "    i+=1\n",
    "print(\"Total:\", total,\", digite o valor do pagamento\")\n",
    "pagamento = float(input(\"Valor do pagamento: \"))\n",
    "while pagamento < total:\n",
    "    pagamento = float(input(\"Valor abaixo do total, digite um valor válido: \"))\n",
    "troco = pagamento - total\n",
    "print(\"O troco é de R$\",troco)"
   ]
  },
  {
   "cell_type": "code",
   "execution_count": null,
   "id": "f62aed53",
   "metadata": {},
   "outputs": [
    {
     "name": "stdout",
     "output_type": "stream",
     "text": [
      "Compra e troco\n",
      "Total: 5.0 , digite o valor do pagamento\n",
      "O troco é de R$ 5.0\n"
     ]
    }
   ],
   "source": [
    "#1.18 v2\n",
    "\n",
    "print(\"Compra e troco\")\n",
    "produto1 = float(input(\"Digite o valor do produto 1: \"))\n",
    "produto2 = float(input(\"Digite o valor do produto 2: \"))\n",
    "produto3 = float(input(\"Digite o valor do produto 3: \"))\n",
    "produto4 = float(input(\"Digite o valor do produto 4: \"))\n",
    "produto5 = float(input(\"Digite o valor do produto 5: \"))\n",
    "totalv2 = produto1 + produto2 + produto3 + produto4 + produto5\n",
    "\n",
    "print(\"Total:\", totalv2,\", digite o valor do pagamento\")\n",
    "pagamentov2 = float(input(\"Valor do pagamento: \"))\n",
    "while pagamentov2 < totalv2:\n",
    "    pagamentov2 = float(input(\"Valor abaixo do total, digite um valor válido: \"))\n",
    "troco = pagamentov2 - totalv2\n",
    "print(\"O troco é de R$\",troco)"
   ]
  },
  {
   "cell_type": "code",
   "execution_count": null,
   "id": "83d142a4",
   "metadata": {},
   "outputs": [
    {
     "name": "stdout",
     "output_type": "stream",
     "text": [
      "Nota para aprovação\n",
      "Sua segunda nota deve ser maior ou igual a  5.0\n"
     ]
    }
   ],
   "source": [
    "#1.19\n",
    "\n",
    "print(\"Nota para aprovação\")\n",
    "nota1 = float(input(\"Digite a primeira nota: \"))\n",
    "while nota1 > 10:\n",
    "    nota1 = float(input(\"Digite a primeira nota: \"))\n",
    "nota2 = (15 - nota1)/2\n",
    "\n",
    "print(\"Sua segunda nota deve ser maior ou igual a \", nota2)"
   ]
  },
  {
   "cell_type": "markdown",
   "id": "73833376",
   "metadata": {},
   "source": [
    "Estruturas de seleção"
   ]
  },
  {
   "cell_type": "code",
   "execution_count": null,
   "id": "bed0fbcb",
   "metadata": {},
   "outputs": [
    {
     "name": "stdout",
     "output_type": "stream",
     "text": [
      "Maior valor v1\n",
      "O maior valor é  3.0\n"
     ]
    }
   ],
   "source": [
    "#2.1\n",
    "\n",
    "print(\"Maior valor v1\")\n",
    "valor1v1 = float(input(\"Digite um valor: \"))\n",
    "valor2v1 = float(input(\"Digite outro valor: \"))\n",
    "if valor1v1 > valor2v1:\n",
    "    print(\"O maior valor é \", valor1v1)\n",
    "else:\n",
    "    print(\"O maior valor é \", valor2v1)"
   ]
  },
  {
   "cell_type": "code",
   "execution_count": null,
   "id": "5a57f417",
   "metadata": {},
   "outputs": [
    {
     "name": "stdout",
     "output_type": "stream",
     "text": [
      "Menor valor\n",
      "O menor valor é  3.0\n"
     ]
    }
   ],
   "source": [
    "#2.2\n",
    "\n",
    "print(\"Menor valor\")\n",
    "menorvalor1 = float(input(\"Digite um valor: \"))\n",
    "menorvalor2 = float(input(\"Digite outro valor: \"))\n",
    "if menorvalor1 < menorvalor2:\n",
    "    print(\"O menor valor é \", menorvalor1)\n",
    "else:\n",
    "    print(\"O menor valor é \", menorvalor2)"
   ]
  },
  {
   "cell_type": "code",
   "execution_count": null,
   "id": "7541ce2f",
   "metadata": {},
   "outputs": [
    {
     "name": "stdout",
     "output_type": "stream",
     "text": [
      "Maior valor v2\n",
      "Os valores são iguais\n"
     ]
    }
   ],
   "source": [
    "#2.3 \n",
    "\n",
    "print(\"Maior valor v2\")\n",
    "valor1v2 = float(input(\"Digite um valor: \"))\n",
    "valor2v2 = float(input(\"Digite outro valor: \"))\n",
    "if valor1v2 > valor2v2:\n",
    "    print(\"O maior valor é \", valor1v2)\n",
    "elif valor1v2 < valor2v2:\n",
    "    print(\"O maior valor é \", valor2v2)\n",
    "else:\n",
    "    print(\"Os valores são iguais\")"
   ]
  },
  {
   "cell_type": "code",
   "execution_count": 15,
   "id": "05df1023",
   "metadata": {},
   "outputs": [
    {
     "name": "stdout",
     "output_type": "stream",
     "text": [
      "Terreno grande\n",
      "A área do terreno é 500.0 , terreno grande\n"
     ]
    }
   ],
   "source": [
    "#2.4\n",
    "\n",
    "print(\"Terreno grande\")\n",
    "base_terreno = float(input(\"Digite o tamanho da base do terreno: \"))\n",
    "altura_terreno = float(input(\"Digite o tamanho da altura do terreno: \"))\n",
    "area_terreno = base_terreno * altura_terreno\n",
    "if area_terreno > 100:\n",
    "    print(\"A área do terreno é\", area_terreno,\", terreno grande\")\n",
    "else:\n",
    "    print(\"A área do terreno é\", area_terreno)"
   ]
  },
  {
   "cell_type": "code",
   "execution_count": 18,
   "id": "430b19cd",
   "metadata": {},
   "outputs": [
    {
     "name": "stdout",
     "output_type": "stream",
     "text": [
      "Terreno grande VS Terreno pequeno\n",
      "Terreno grande\n"
     ]
    }
   ],
   "source": [
    "#2.5\n",
    "\n",
    "print(\"Terreno grande VS Terreno pequeno\")\n",
    "base_terrenov2 = float(input(\"Digite o tamanho da base do terreno: \"))\n",
    "altura_terrenov2 = float(input(\"Digite o tamanho da altura do terreno: \"))\n",
    "area_terrenov2 = base_terrenov2 * altura_terrenov2\n",
    "if area_terrenov2 > 100:\n",
    "    print(\"Terreno grande\")\n",
    "else:\n",
    "    print(\"Terreno pequeno\")"
   ]
  },
  {
   "cell_type": "code",
   "execution_count": 22,
   "id": "266c7751",
   "metadata": {},
   "outputs": [
    {
     "name": "stdout",
     "output_type": "stream",
     "text": [
      "Maior valor v3\n",
      "O maior valor e 3.0\n"
     ]
    }
   ],
   "source": [
    "#2.6\n",
    "\n",
    "print(\"Maior valor v3\")\n",
    "valor1v3 = float(input(\"Digite o primeiro valor: \"))\n",
    "valor2v3 = float(input(\"Digite o segundo valor: \"))\n",
    "valor3v3 = float(input(\"Digite o terceiro valor: \"))\n",
    "if valor1v3 == valor2v3 == valor3v3:\n",
    "    print(\"Os valores são iguais\")\n",
    "elif valor1v3 > valor2v3 and valor1v3 > valor3v3:\n",
    "    print(\"O maior valor e\", valor1v3)\n",
    "elif valor2v3 > valor3v3:\n",
    "    print(\"O maior valor e\", valor2v3)\n",
    "elif valor2v3 < valor3v3:\n",
    "    print(\"O maior valor e\", valor3v3)"
   ]
  },
  {
   "cell_type": "code",
   "execution_count": 39,
   "id": "d32032f1",
   "metadata": {},
   "outputs": [
    {
     "name": "stdout",
     "output_type": "stream",
     "text": [
      "Peso ideal v1\n",
      "20.0\n",
      "Peso ideal\n"
     ]
    }
   ],
   "source": [
    "#2.7\n",
    "\n",
    "print(\"Peso ideal v1\")\n",
    "pesov1 = float(input(\"Digite seu peso (em kg): \"))\n",
    "alturav1 = float(input(\"Digite sua altura (em m): \"))\n",
    "imcv1 = pesov1 / alturav1 ** 2\n",
    "print(round(imcv1, 2))\n",
    "if 20 > imcv1:\n",
    "    print(\"Abaixo do peso\")\n",
    "elif imcv1 < 25:\n",
    "    print(\"Peso ideal\")\n",
    "else:\n",
    "    print(\"Acima do peso\")"
   ]
  },
  {
   "cell_type": "code",
   "execution_count": 50,
   "id": "835c3ab0",
   "metadata": {},
   "outputs": [
    {
     "name": "stdout",
     "output_type": "stream",
     "text": [
      "Teste do triângulo\n",
      "Triângulo escaleno\n"
     ]
    }
   ],
   "source": [
    "#2.8\n",
    "\n",
    "print(\"Teste do triângulo\")\n",
    "lado1 = float(input(\"Digite o primeiro lado: \"))\n",
    "lado2 = float(input(\"Digite o segundo lado: \"))\n",
    "lado3 = float(input(\"Digite o terceiro lado: \"))\n",
    "\n",
    "if lado1 == lado2 == lado3:\n",
    "    print(\"Triângulo equilátero\")\n",
    "elif lado1 + lado2 > lado3 and lado1 + lado3 > lado2 and lado2 + lado3 > lado1:\n",
    "    if lado1 == lado2 or lado1 == lado3 or lado2 == lado3:\n",
    "        print(\"Triângulo isósceles\")\n",
    "    else:\n",
    "        print(\"Triângulo escaleno\")\n",
    "else: \n",
    "    print(\"Não forma um triângulo\")"
   ]
  },
  {
   "cell_type": "code",
   "execution_count": 60,
   "id": "140a4ec6",
   "metadata": {},
   "outputs": [
    {
     "name": "stdout",
     "output_type": "stream",
     "text": [
      "Teste do retângulo\n",
      "Os valores formam um triângulo retângulo\n"
     ]
    }
   ],
   "source": [
    "#2.9\n",
    "\n",
    "print(\"Teste do retângulo\")\n",
    "trianguloA = float(input(\"Digite o primeiro lado do triângulo: \"))\n",
    "trianguloB = float(input(\"Digite o segundo lado do triângulo: \"))\n",
    "trianguloC = float(input(\"Digite o terceiro lado do triângulo: \"))\n",
    "\n",
    "if 0 == (trianguloA**2+trianguloB**2)-trianguloC**2 or 0 == (trianguloA**2+trianguloC**2)-trianguloB**2 or 0 == (trianguloB**2+trianguloC**2)-trianguloA**2:\n",
    "    print(\"Os valores formam um triângulo retângulo\")\n",
    "else:\n",
    "    print(\"Os valores não formam um triângulo retângulo\")"
   ]
  },
  {
   "cell_type": "code",
   "execution_count": null,
   "id": "5adb7f5a",
   "metadata": {},
   "outputs": [
    {
     "name": "stdout",
     "output_type": "stream",
     "text": [
      "Fórmula de Bhaskara\n",
      "-1.0\n",
      "1.5\n",
      "Duas raizes:  1.0 , -2.0\n"
     ]
    }
   ],
   "source": [
    "#2.10\n",
    "\n",
    "print(\"Fórmula de Bhaskara\")\n",
    "coeficienteA = input(\"Digite o primeiro termo (ax2): \")\n",
    "coeficienteB = input(\"Digite o segundo termo (bx): \")\n",
    "coeficienteC = float(input(\"Digite o terceiro termo (c): \"))\n",
    "\n",
    "coeficienteA = coeficienteA.split(\"x\")\n",
    "if coeficienteA[0] == '':\n",
    "    coeficienteA[0] = 1\n",
    "coeficienteB = coeficienteB.split(\"x\")\n",
    "if coeficienteB[0] == '':\n",
    "    coeficienteB[0] = 1\n",
    "\n",
    "delta_bashkara = float(coeficienteB[0]) ** 2 - 4 * float(coeficienteA[0]) * coeficienteC\n",
    "\n",
    "if delta_bashkara > 0:\n",
    "    x1 = (-float(coeficienteB[0]) + math.sqrt(delta_bashkara)) / (2 * float(coeficienteA[0]))\n",
    "    x2 = (-float(coeficienteB[0]) - math.sqrt(delta_bashkara)) / (2 * float(coeficienteA[0]))\n",
    "    print(\"Duas raizes: \", x1,\",\", x2)\n",
    "elif delta_bashkara == 0:\n",
    "    x = (-float(coeficienteB[0])) / (2 * float(coeficienteA[0]))\n",
    "    print(\"Duas raízes iguais: \", x)\n",
    "else:\n",
    "    print(\"Delta negativo, nenhuma raiz\")"
   ]
  },
  {
   "cell_type": "code",
   "execution_count": 57,
   "id": "62c53126",
   "metadata": {},
   "outputs": [
    {
     "name": "stdout",
     "output_type": "stream",
     "text": [
      "Peso ideal v2\n",
      "2.5\n",
      "Abaixo do peso\n"
     ]
    }
   ],
   "source": [
    "#2.11\n",
    "\n",
    "print(\"Peso ideal v2\")\n",
    "pesov2 = float(input(\"Digite seu peso (em kg): \"))\n",
    "alturav2 = float(input(\"Digite sua altura (em m): \"))\n",
    "sexov2 = input(\"Digite seu sexo (F ou M para Feminino ou Masculino): \")\n",
    "while sexov2 != \"F\" and sexov2 != \"M\" and sexov2 != \"f\" and sexov2 != \"m\":\n",
    "    sexov2 = input(\"Entrada inválida, digitar F ou M\")\n",
    "\n",
    "imcv2 = pesov2 / alturav2 ** 2\n",
    "print(round(imcv2, 2))\n",
    "\n",
    "if sexov2 == \"M\" or sexov2 == \"m\":\n",
    "    if 20 > imcv2:\n",
    "        print(\"Abaixo do peso\")\n",
    "    elif imcv2 < 25:\n",
    "        print(\"Peso ideal\")\n",
    "    else:\n",
    "        print(\"Acima do peso\")\n",
    "else:\n",
    "    if 19 > imcv2:\n",
    "        print(\"Abaixo do peso\")\n",
    "    elif imcv2 < 24:\n",
    "        print(\"Peso ideal\")\n",
    "    else:\n",
    "        print(\"Acima do peso\")"
   ]
  },
  {
   "cell_type": "code",
   "execution_count": 10,
   "id": "6e2c169d",
   "metadata": {},
   "outputs": [
    {
     "name": "stdout",
     "output_type": "stream",
     "text": [
      "Velocidade permitida\n",
      "\n",
      "Veículo muito rápido\n"
     ]
    }
   ],
   "source": [
    "#2.12\n",
    "\n",
    "print(\"Velocidade permitida\\n\")\n",
    "aceleracaov2 = float(input(\"Digite a aceleração em m/s²: \"))\n",
    "velocidade_inicialv2 = float(input(\"Digite a velocidade inicial em m/s: \"))\n",
    "tempo_percursov2 = float(input(\"Digite o tempo do percurso em segundos: \"))\n",
    "velocidade_finalv2 = (velocidade_inicialv2 + aceleracaov2 * tempo_percursov2) * 3.6\n",
    "\n",
    "if velocidade_finalv2 <= 40:\n",
    "    print(\"Veículo muito lento\")\n",
    "elif velocidade_finalv2 <= 60:\n",
    "    print(\"Velocidade permitida\")\n",
    "elif velocidade_finalv2 <= 80:\n",
    "    print(\"Velocidade de cruzeiro\")\n",
    "elif velocidade_finalv2 <= 120:\n",
    "    print(\"Veículo rápido\")\n",
    "else:\n",
    "    print(\"Veículo muito rápido\")"
   ]
  },
  {
   "cell_type": "code",
   "execution_count": 18,
   "id": "fc387588",
   "metadata": {},
   "outputs": [
    {
     "name": "stdout",
     "output_type": "stream",
     "text": [
      "Aluno aprovado\n",
      "\n",
      "Aluno aprovado\n"
     ]
    }
   ],
   "source": [
    "#2.13\n",
    "\n",
    "print(\"Aluno aprovado\\n\")\n",
    "nota1v2 = float(input(\"Digite sua primeira nota: \"))\n",
    "while nota1v2 > 10 or nota1v2 < 0:\n",
    "    nota1v2 = float(input(\"Digite sua primeira nota: \"))\n",
    "nota2v2 = float(input(\"Digite sua segunda nota: \"))\n",
    "while nota2v2 > 10 or nota2v2 < 0:\n",
    "    nota2v2 = float(input(\"Digite sua segunda nota: \"))\n",
    "notafinal = (nota1v2 + 2 * nota2v2)/3\n",
    "\n",
    "if notafinal >= 5:\n",
    "    print(\"Aluno aprovado\")\n",
    "else:\n",
    "    print(\"Aluno reprovado\")"
   ]
  },
  {
   "cell_type": "markdown",
   "id": "28f61406",
   "metadata": {},
   "source": [
    "Estruturas de repetição"
   ]
  },
  {
   "cell_type": "code",
   "execution_count": null,
   "id": "3024283d",
   "metadata": {},
   "outputs": [
    {
     "name": "stdout",
     "output_type": "stream",
     "text": [
      "Apenas positivos\n",
      "9.0\n"
     ]
    }
   ],
   "source": [
    "#3.1\n",
    "\n",
    "print(\"Apenas positivos\")\n",
    "valorpositivo = float(input(\"Digite um valor positivo: \"))\n",
    "while valorpositivo <= 0:\n",
    "    valorpositivo = float(input(\"Digite um valor positivo: \"))\n",
    "print(valorpositivo)"
   ]
  },
  {
   "cell_type": "code",
   "execution_count": 24,
   "id": "4dbdb010",
   "metadata": {},
   "outputs": [
    {
     "name": "stdout",
     "output_type": "stream",
     "text": [
      "Segundo maior que o primeiro\n",
      "3 é menor que 4\n"
     ]
    }
   ],
   "source": [
    "\n",
    "#3.2\n",
    "\n",
    "print(\"Segundo maior que o primeiro\")\n",
    "valormenor = int(input(\"Digite um valor inteiro: \"))\n",
    "valormaior = int(input(\"Digite um valor maior que o primeiro: \"))\n",
    "while valormaior <= valormenor:\n",
    "    valormaior = int(input(\"Digite novamente o segundo valor: \"))\n",
    "print(valormenor, \"é menor que\", valormaior)"
   ]
  },
  {
   "cell_type": "code",
   "execution_count": 29,
   "id": "730fc869",
   "metadata": {},
   "outputs": [
    {
     "name": "stdout",
     "output_type": "stream",
     "text": [
      "Sexo M ou F\n",
      "Masculino\n"
     ]
    }
   ],
   "source": [
    "#3.3\n",
    "\n",
    "print(\"Sexo M ou F\")\n",
    "sexov3 = input(\"Digite seu sexo (F ou M): \")\n",
    "while sexov3 != \"F\" and sexov3 != \"f\" and sexov3 != \"M\" and sexov3 != \"m\":\n",
    "    sexov3 = input(\"Digite seu sexo (F ou M): \")\n",
    "if sexov3 == \"f\" or sexov3 == \"F\":\n",
    "    print(\"Feminino\")\n",
    "else:\n",
    "    print(\"Masculino\")"
   ]
  },
  {
   "cell_type": "code",
   "execution_count": 33,
   "id": "c76949cb",
   "metadata": {},
   "outputs": [
    {
     "name": "stdout",
     "output_type": "stream",
     "text": [
      "Tabuada do 5\n",
      "5 * 1 = 5\n",
      "5 * 2 = 10\n",
      "5 * 3 = 15\n",
      "5 * 4 = 20\n",
      "5 * 5 = 25\n",
      "5 * 6 = 30\n",
      "5 * 7 = 35\n",
      "5 * 8 = 40\n",
      "5 * 9 = 45\n",
      "5 * 10 = 50\n"
     ]
    }
   ],
   "source": [
    "#3.4\n",
    "\n",
    "print(\"Tabuada do 5\")\n",
    "for i in range(10):\n",
    "    i+=1\n",
    "    print(\"5 *\", i, \"=\",5*i)"
   ]
  },
  {
   "cell_type": "code",
   "execution_count": 38,
   "id": "92e198e5",
   "metadata": {},
   "outputs": [
    {
     "name": "stdout",
     "output_type": "stream",
     "text": [
      "Tabuada de um número positivo\n",
      "3.14 * 1 = 3.14\n",
      "3.14 * 2 = 6.28\n",
      "3.14 * 3 = 9.42\n",
      "3.14 * 4 = 12.56\n",
      "3.14 * 5 = 15.700000000000001\n",
      "3.14 * 6 = 18.84\n",
      "3.14 * 7 = 21.98\n",
      "3.14 * 8 = 25.12\n",
      "3.14 * 9 = 28.26\n",
      "3.14 * 10 = 31.400000000000002\n"
     ]
    }
   ],
   "source": [
    "#3.5\n",
    "\n",
    "print(\"Tabuada de um número positivo\")\n",
    "tabuada = float(input(\"Digite um número positivo: \"))\n",
    "while tabuada <= 0:\n",
    "    tabuada = float(input(\"Digite um número positivo: \"))\n",
    "for i in range(10):\n",
    "    i+=1\n",
    "    print(tabuada, \"*\", i, \"=\",tabuada*i)"
   ]
  },
  {
   "cell_type": "code",
   "execution_count": 58,
   "id": "ecaebfb1",
   "metadata": {},
   "outputs": [
    {
     "name": "stdout",
     "output_type": "stream",
     "text": [
      "Tabuada parcial de um numero positivo\n",
      "2.0 * 10 = 20.0\n",
      "2.0 * 9 = 18.0\n",
      "2.0 * 8 = 16.0\n",
      "2.0 * 7 = 14.0\n",
      "2.0 * 6 = 12.0\n",
      "2.0 * 5 = 10.0\n",
      "2.0 * 4 = 8.0\n",
      "2.0 * 3 = 6.0\n",
      "2.0 * 2 = 4.0\n",
      "2.0 * 1 = 2.0\n"
     ]
    }
   ],
   "source": [
    "#3.6\n",
    "\n",
    "print(\"Tabuada parcial de um numero positivo\")\n",
    "tabuadav2 = float(input(\"Digite um número positivo: \"))\n",
    "while tabuadav2 <= 0:\n",
    "    tabuadav2 = float(input(\"Digite um número positivo: \"))\n",
    "intervaloA = int(input(\"Digite o inicio do intervalo desejado: \"))\n",
    "intervaloB = int(input(\"Digite o fim do intervalo desejado: \"))\n",
    "while intervaloA >= intervaloB:\n",
    "    intervaloB = int(input(\"O fim do intervalo deve ser um valor maior que o seu inicio, digite novamente: \"))\n",
    "\n",
    "j = intervaloB\n",
    "for i in range(intervaloA, intervaloB+1):\n",
    "    print(tabuadav2, \"*\", j, \"=\", tabuadav2*j)\n",
    "    j-=1\n",
    "    i+=1"
   ]
  },
  {
   "cell_type": "code",
   "execution_count": 40,
   "id": "8d1bffb4",
   "metadata": {},
   "outputs": [
    {
     "name": "stdout",
     "output_type": "stream",
     "text": [
      "Soma de 1 a 100\n",
      "1\n",
      "3\n",
      "6\n",
      "10\n",
      "15\n",
      "21\n",
      "28\n",
      "36\n",
      "45\n",
      "55\n",
      "66\n",
      "78\n",
      "91\n",
      "105\n",
      "120\n",
      "136\n",
      "153\n",
      "171\n",
      "190\n",
      "210\n",
      "231\n",
      "253\n",
      "276\n",
      "300\n",
      "325\n",
      "351\n",
      "378\n",
      "406\n",
      "435\n",
      "465\n",
      "496\n",
      "528\n",
      "561\n",
      "595\n",
      "630\n",
      "666\n",
      "703\n",
      "741\n",
      "780\n",
      "820\n",
      "861\n",
      "903\n",
      "946\n",
      "990\n",
      "1035\n",
      "1081\n",
      "1128\n",
      "1176\n",
      "1225\n",
      "1275\n",
      "1326\n",
      "1378\n",
      "1431\n",
      "1485\n",
      "1540\n",
      "1596\n",
      "1653\n",
      "1711\n",
      "1770\n",
      "1830\n",
      "1891\n",
      "1953\n",
      "2016\n",
      "2080\n",
      "2145\n",
      "2211\n",
      "2278\n",
      "2346\n",
      "2415\n",
      "2485\n",
      "2556\n",
      "2628\n",
      "2701\n",
      "2775\n",
      "2850\n",
      "2926\n",
      "3003\n",
      "3081\n",
      "3160\n",
      "3240\n",
      "3321\n",
      "3403\n",
      "3486\n",
      "3570\n",
      "3655\n",
      "3741\n",
      "3828\n",
      "3916\n",
      "4005\n",
      "4095\n",
      "4186\n",
      "4278\n",
      "4371\n",
      "4465\n",
      "4560\n",
      "4656\n",
      "4753\n",
      "4851\n",
      "4950\n",
      "5050\n"
     ]
    }
   ],
   "source": [
    "#3.7\n",
    "\n",
    "print(\"Soma de 1 a 100\")\n",
    "soma = 0\n",
    "for i in range (100):\n",
    "    i+=1\n",
    "    soma = soma+i\n",
    "    print(soma)"
   ]
  },
  {
   "cell_type": "code",
   "execution_count": 59,
   "id": "97cc1acc",
   "metadata": {},
   "outputs": [
    {
     "name": "stdout",
     "output_type": "stream",
     "text": [
      "Fibonacci\n"
     ]
    }
   ],
   "source": [
    "#3.8\n",
    "\n",
    "print(\"Fibonacci\")"
   ]
  }
 ],
 "metadata": {
  "kernelspec": {
   "display_name": "Python 3",
   "language": "python",
   "name": "python3"
  },
  "language_info": {
   "codemirror_mode": {
    "name": "ipython",
    "version": 3
   },
   "file_extension": ".py",
   "mimetype": "text/x-python",
   "name": "python",
   "nbconvert_exporter": "python",
   "pygments_lexer": "ipython3",
   "version": "3.11.9"
  }
 },
 "nbformat": 4,
 "nbformat_minor": 5
}
