{
 "cells": [
  {
   "cell_type": "code",
   "execution_count": 1,
   "id": "f43081fb",
   "metadata": {},
   "outputs": [],
   "source": [
    "import math"
   ]
  },
  {
   "cell_type": "markdown",
   "id": "6cae61bf",
   "metadata": {},
   "source": [
    "Exercicios de Aritmética simples"
   ]
  },
  {
   "cell_type": "code",
   "execution_count": null,
   "id": "cc4b87db",
   "metadata": {},
   "outputs": [
    {
     "name": "stdout",
     "output_type": "stream",
     "text": [
      "Área do Retangulo\n",
      "A área do retângulo é 4.0 \n",
      "\n"
     ]
    }
   ],
   "source": [
    "# 1.1\n",
    "\n",
    "print(\"Área do Retangulo\")\n",
    "base_retangulo = float(input(\"Digite a base: \"))\n",
    "altura_retangulo = float(input(\"Digite a altura: \"))\n",
    "area_retangulo = base_retangulo * altura_retangulo\n",
    "\n",
    "print(\"A área do retângulo é\", area_retangulo, \"\\n\")"
   ]
  },
  {
   "cell_type": "code",
   "execution_count": null,
   "id": "b4269f8c",
   "metadata": {},
   "outputs": [],
   "source": [
    "#1.2\n",
    "\n",
    "print(\"Área do Quadrado\")\n",
    "aresta_quadrado = float(input(\"Digite a aresta: \"))\n",
    "area_quadradov1 = aresta_quadrado * aresta_quadrado\n",
    "\n",
    "print(\"A área do quadrado é\", area_quadradov1, \"\\n\")"
   ]
  },
  {
   "cell_type": "code",
   "execution_count": null,
   "id": "b9b16cf7",
   "metadata": {},
   "outputs": [],
   "source": [
    "#1.3\n",
    "\n",
    "print(\"Área do Quadrado\")\n",
    "diagonal_quadrado = float(input(\"Digite a diagonal: \"))\n",
    "area_quadradov2 = diagonal_quadrado * diagonal_quadrado / 2\n",
    "\n",
    "print(\"A área do quadrado é\", area_quadradov2, \"\\n\")"
   ]
  },
  {
   "cell_type": "code",
   "execution_count": null,
   "id": "51806d67",
   "metadata": {},
   "outputs": [],
   "source": [
    "#1.4\n",
    "\n",
    "print(\"Área do Triângulo\")\n",
    "base_triangulo = float(input(\"Digite a base: \"))\n",
    "altura_triangulo = float(input(\"Digite a altura: \"))\n",
    "area_triangulo = base_triangulo * altura_triangulo / 2\n",
    "\n",
    "print(\"A área do triângulo é\", area_triangulo, \"\\n\")"
   ]
  },
  {
   "cell_type": "code",
   "execution_count": null,
   "id": "f898efc0",
   "metadata": {},
   "outputs": [],
   "source": [
    "#1.5\n",
    "\n",
    "print(\"Volume da Esfera\")\n",
    "diametro_esfera = float(input(\"Digite o diâmetro: \"))\n",
    "raio_esfera = float(diametro_esfera) / 2\n",
    "volume_esfera = 4 * 3.14 * raio_esfera * raio_esfera * raio_esfera / 3\n",
    "\n",
    "print(\"O volume da esfera é\", volume_esfera, \"\\n\")"
   ]
  },
  {
   "cell_type": "code",
   "execution_count": null,
   "id": "a41f265a",
   "metadata": {},
   "outputs": [],
   "source": [
    "#1.6\n",
    "\n",
    "print(\"Área do Círculo\")\n",
    "diametro_circulo = float(input(\"Digite o diâmetro: \"))\n",
    "raio_circulo = diametro_circulo / 2\n",
    "area_circulo = 3.14 * raio_circulo * raio_circulo\n",
    "\n",
    "print(\"A área do círculo é\", area_circulo, \"\\n\")"
   ]
  },
  {
   "cell_type": "code",
   "execution_count": null,
   "id": "fa7ed83e",
   "metadata": {},
   "outputs": [],
   "source": [
    "#1.7\n",
    "\n",
    "print(\"Volume do Cone\")\n",
    "altura_cone = float(input(\"Digite a altura: \"))\n",
    "raio_cone = float(input(\"Digite o raio: \"))\n",
    "volume_cone = altura_cone * 3.14 * raio_cone * raio_cone / 3\n",
    "\n",
    "print(\"O volume do cone é\", volume_cone, \"\\n\")"
   ]
  },
  {
   "cell_type": "code",
   "execution_count": null,
   "id": "d614e1f3",
   "metadata": {},
   "outputs": [],
   "source": [
    "#1.8\n",
    "\n",
    "print(\"Volume do Cubo menos Esfera\")\n",
    "aresta_cubo = float(input(\"Digite a aresta: \"))\n",
    "raio_esfera = float(input(\"Digite o raio: \"))\n",
    "volume_cubo = aresta_cubo * aresta_cubo * aresta_cubo\n",
    "volume_esferav2 = 4 * 3.14 * raio_esfera * raio_esfera * raio_esfera / 3\n",
    "volume_final = volume_cubo - volume_esferav2\n",
    "\n",
    "print(\"O volume final é\", volume_final, \"\\n\")"
   ]
  },
  {
   "cell_type": "code",
   "execution_count": null,
   "id": "748b3ed1",
   "metadata": {},
   "outputs": [],
   "source": [
    "#1.9\n",
    "\n",
    "print(\"Média Aritmética\")\n",
    "mediaA1 = float(input(\"Digite o primeiro número: \"))\n",
    "mediaA2 = float(input(\"Digite o segundo número: \"))\n",
    "mediaA3 = float(input(\"Digite o terceiro número: \"))\n",
    "mediaA4 = float(input(\"Digite o quarto número: \"))\n",
    "media_aritmetica = (mediaA1 + mediaA2 + mediaA3 + mediaA4) / 4\n",
    "\n",
    "print(\"A média aritmética é\", media_aritmetica, \"\\n\")"
   ]
  },
  {
   "cell_type": "code",
   "execution_count": null,
   "id": "5acd26f7",
   "metadata": {},
   "outputs": [],
   "source": [
    "#1.10\n",
    "\n",
    "print(\"Média Geométrica\")\n",
    "mediaG1 = float(input(\"Digite o primeiro número: \"))\n",
    "mediaG2 = float(input(\"Digite o segundo número: \"))\n",
    "media_geometrica = math.sqrt(mediaG1 * mediaG2)\n",
    "\n",
    "print(\"A média geométrica é\", media_geometrica, \"\\n\")"
   ]
  },
  {
   "cell_type": "code",
   "execution_count": null,
   "id": "e2735976",
   "metadata": {},
   "outputs": [],
   "source": [
    "#1.11\n",
    "\n",
    "print(\"Milhas marítimas para Km\")\n",
    "milhas = float(input(\"Digite as milhas: \"))\n",
    "km = milhas * 1.852\n",
    "\n",
    "print(\"O valor em km é\", km, \"\\n\")"
   ]
  },
  {
   "cell_type": "code",
   "execution_count": null,
   "id": "7bf3217f",
   "metadata": {},
   "outputs": [],
   "source": [
    "#1.12\n",
    "\n",
    "print(\"Lei de Ohm\")\n",
    "ohms = float(input(\"Digite a resistência: \"))\n",
    "amperes = float(input(\"Digite a corrente: \"))\n",
    "volts = ohms * amperes\n",
    "\n",
    "print(\"A tensão é\", volts, \"Volts \\n\")"
   ]
  },
  {
   "cell_type": "code",
   "execution_count": 2,
   "id": "4b079df7",
   "metadata": {},
   "outputs": [
    {
     "name": "stdout",
     "output_type": "stream",
     "text": [
      "Celcius para Fahrenheit\n",
      "A temperatura em Fahrenheit é 50.0 \n",
      "\n"
     ]
    }
   ],
   "source": [
    "#1.13\n",
    "\n",
    "print(\"Celcius para Fahrenheit\")\n",
    "celcius = float(input(\"Digite a temperatura em graus Celcius: \"))\n",
    "fahrenheit = celcius * 1.8 + 32\n",
    "\n",
    "print(\"A temperatura em Fahrenheit é\", fahrenheit, \"\\n\")"
   ]
  },
  {
   "cell_type": "code",
   "execution_count": null,
   "id": "3fc7dc14",
   "metadata": {},
   "outputs": [],
   "source": [
    "#1.14\n",
    "\n",
    "print(\"Velocidade final\")\n",
    "velocidade_inicial = float(input(\"Digite a velocidade inicial em m/s: \"))\n",
    "aceleracao = float(input(\"Digite a aceleração em m/s²: \"))\n",
    "tempo_percurso = float(input(\"Digite o tempo do percurso em segundos: \"))\n",
    "velocidade_final = (velocidade_inicial + aceleracao * tempo_percurso) * 3.6\n",
    "\n",
    "print(\"A velocidade final é\", velocidade_final, \"Km/h \\n\")"
   ]
  }
 ],
 "metadata": {
  "kernelspec": {
   "display_name": "Python 3",
   "language": "python",
   "name": "python3"
  },
  "language_info": {
   "codemirror_mode": {
    "name": "ipython",
    "version": 3
   },
   "file_extension": ".py",
   "mimetype": "text/x-python",
   "name": "python",
   "nbconvert_exporter": "python",
   "pygments_lexer": "ipython3",
   "version": "3.11.9"
  }
 },
 "nbformat": 4,
 "nbformat_minor": 5
}
