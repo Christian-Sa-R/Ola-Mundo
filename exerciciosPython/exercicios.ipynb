{
 "cells": [
  {
   "cell_type": "code",
   "execution_count": 11,
   "id": "f43081fb",
   "metadata": {},
   "outputs": [],
   "source": [
    "import math"
   ]
  },
  {
   "cell_type": "markdown",
   "id": "6cae61bf",
   "metadata": {},
   "source": [
    "Exercicios de Aritmética simples"
   ]
  },
  {
   "cell_type": "code",
   "execution_count": null,
   "id": "cc4b87db",
   "metadata": {},
   "outputs": [
    {
     "name": "stdout",
     "output_type": "stream",
     "text": [
      "Área do Retangulo\n",
      "A área do retângulo é 4.0 \n",
      "\n"
     ]
    }
   ],
   "source": [
    "# 1.1\n",
    "\n",
    "print(\"Área do Retangulo\")\n",
    "base_retangulo = float(input(\"Digite a base: \"))\n",
    "altura_retangulo = float(input(\"Digite a altura: \"))\n",
    "area_retangulo = base_retangulo * altura_retangulo\n",
    "\n",
    "print(\"A área do retângulo é\", area_retangulo, \"\\n\")"
   ]
  },
  {
   "cell_type": "code",
   "execution_count": 3,
   "id": "b4269f8c",
   "metadata": {},
   "outputs": [
    {
     "name": "stdout",
     "output_type": "stream",
     "text": [
      "Área do Quadrado\n",
      "A área do quadrado é 4.0 \n",
      "\n"
     ]
    }
   ],
   "source": [
    "#1.2\n",
    "\n",
    "print(\"Área do Quadrado\")\n",
    "aresta_quadrado = float(input(\"Digite a aresta: \"))\n",
    "area_quadradov1 = aresta_quadrado * aresta_quadrado\n",
    "\n",
    "print(\"A área do quadrado é\", area_quadradov1, \"\\n\")"
   ]
  },
  {
   "cell_type": "code",
   "execution_count": null,
   "id": "b9b16cf7",
   "metadata": {},
   "outputs": [],
   "source": [
    "#1.3\n",
    "\n",
    "print(\"Área do Quadrado\")\n",
    "diagonal_quadrado = float(input(\"Digite a diagonal: \"))\n",
    "area_quadradov2 = diagonal_quadrado * diagonal_quadrado / 2\n",
    "\n",
    "print(\"A área do quadrado é\", area_quadradov2, \"\\n\")"
   ]
  },
  {
   "cell_type": "code",
   "execution_count": null,
   "id": "51806d67",
   "metadata": {},
   "outputs": [],
   "source": [
    "#1.4\n",
    "\n",
    "print(\"Área do Triângulo\")\n",
    "base_triangulo = float(input(\"Digite a base: \"))\n",
    "altura_triangulo = float(input(\"Digite a altura: \"))\n",
    "area_triangulo = base_triangulo * altura_triangulo / 2\n",
    "\n",
    "print(\"A área do triângulo é\", area_triangulo, \"\\n\")"
   ]
  },
  {
   "cell_type": "code",
   "execution_count": null,
   "id": "f898efc0",
   "metadata": {},
   "outputs": [],
   "source": [
    "#1.5\n",
    "\n",
    "print(\"Volume da Esfera\")\n",
    "diametro_esfera = float(input(\"Digite o diâmetro: \"))\n",
    "raio_esfera = float(diametro_esfera) / 2\n",
    "volume_esfera = 4 * 3.14 * raio_esfera * raio_esfera * raio_esfera / 3\n",
    "\n",
    "print(\"O volume da esfera é\", volume_esfera, \"\\n\")"
   ]
  },
  {
   "cell_type": "code",
   "execution_count": null,
   "id": "a41f265a",
   "metadata": {},
   "outputs": [],
   "source": [
    "#1.6\n",
    "\n",
    "print(\"Área do Círculo\")\n",
    "diametro_circulo = float(input(\"Digite o diâmetro: \"))\n",
    "raio_circulo = diametro_circulo / 2\n",
    "area_circulo = 3.14 * raio_circulo * raio_circulo\n",
    "\n",
    "print(\"A área do círculo é\", area_circulo, \"\\n\")"
   ]
  },
  {
   "cell_type": "code",
   "execution_count": null,
   "id": "fa7ed83e",
   "metadata": {},
   "outputs": [],
   "source": [
    "#1.7\n",
    "\n",
    "print(\"Volume do Cone\")\n",
    "altura_cone = float(input(\"Digite a altura: \"))\n",
    "raio_cone = float(input(\"Digite o raio: \"))\n",
    "volume_cone = altura_cone * 3.14 * raio_cone * raio_cone / 3\n",
    "\n",
    "print(\"O volume do cone é\", volume_cone, \"\\n\")"
   ]
  },
  {
   "cell_type": "code",
   "execution_count": null,
   "id": "d614e1f3",
   "metadata": {},
   "outputs": [],
   "source": [
    "#1.8\n",
    "\n",
    "print(\"Volume do Cubo menos Esfera\")\n",
    "aresta_cubo = float(input(\"Digite a aresta: \"))\n",
    "raio_esfera = float(input(\"Digite o raio: \"))\n",
    "volume_cubo = aresta_cubo * aresta_cubo * aresta_cubo\n",
    "volume_esferav2 = 4 * 3.14 * raio_esfera * raio_esfera * raio_esfera / 3\n",
    "volume_final = volume_cubo - volume_esferav2\n",
    "\n",
    "print(\"O volume final é\", volume_final, \"\\n\")"
   ]
  },
  {
   "cell_type": "code",
   "execution_count": null,
   "id": "748b3ed1",
   "metadata": {},
   "outputs": [],
   "source": [
    "#1.9\n",
    "\n",
    "print(\"Média Aritmética\")\n",
    "mediaA1 = float(input(\"Digite o primeiro número: \"))\n",
    "mediaA2 = float(input(\"Digite o segundo número: \"))\n",
    "mediaA3 = float(input(\"Digite o terceiro número: \"))\n",
    "mediaA4 = float(input(\"Digite o quarto número: \"))\n",
    "media_aritmetica = (mediaA1 + mediaA2 + mediaA3 + mediaA4) / 4\n",
    "\n",
    "print(\"A média aritmética é\", media_aritmetica, \"\\n\")"
   ]
  },
  {
   "cell_type": "code",
   "execution_count": null,
   "id": "5acd26f7",
   "metadata": {},
   "outputs": [],
   "source": [
    "#1.10\n",
    "\n",
    "print(\"Média Geométrica\")\n",
    "mediaG1 = float(input(\"Digite o primeiro número: \"))\n",
    "mediaG2 = float(input(\"Digite o segundo número: \"))\n",
    "media_geometrica = math.sqrt(mediaG1 * mediaG2)\n",
    "\n",
    "print(\"A média geométrica é\", media_geometrica, \"\\n\")"
   ]
  },
  {
   "cell_type": "code",
   "execution_count": null,
   "id": "e2735976",
   "metadata": {},
   "outputs": [],
   "source": [
    "#1.11\n",
    "\n",
    "print(\"Milhas marítimas para Km\")\n",
    "milhas = float(input(\"Digite as milhas: \"))\n",
    "km = milhas * 1.852\n",
    "\n",
    "print(\"O valor em km é\", km, \"\\n\")"
   ]
  },
  {
   "cell_type": "code",
   "execution_count": null,
   "id": "7bf3217f",
   "metadata": {},
   "outputs": [],
   "source": [
    "#1.12\n",
    "\n",
    "print(\"Lei de Ohm\")\n",
    "ohms = float(input(\"Digite a resistência: \"))\n",
    "amperes = float(input(\"Digite a corrente: \"))\n",
    "volts = ohms * amperes\n",
    "\n",
    "print(\"A tensão é\", volts, \"Volts \\n\")"
   ]
  },
  {
   "cell_type": "code",
   "execution_count": 2,
   "id": "4b079df7",
   "metadata": {},
   "outputs": [
    {
     "name": "stdout",
     "output_type": "stream",
     "text": [
      "Celcius para Fahrenheit\n",
      "A temperatura em Fahrenheit é 50.0 \n",
      "\n"
     ]
    }
   ],
   "source": [
    "#1.13\n",
    "\n",
    "print(\"Celcius para Fahrenheit\")\n",
    "celcius = float(input(\"Digite a temperatura em graus Celcius: \"))\n",
    "fahrenheit = celcius * 1.8 + 32\n",
    "\n",
    "print(\"A temperatura em Fahrenheit é\", fahrenheit, \"\\n\")"
   ]
  },
  {
   "cell_type": "code",
   "execution_count": null,
   "id": "3fc7dc14",
   "metadata": {},
   "outputs": [],
   "source": [
    "#1.14\n",
    "\n",
    "print(\"Velocidade final\")\n",
    "velocidade_inicial = float(input(\"Digite a velocidade inicial em m/s: \"))\n",
    "aceleracao = float(input(\"Digite a aceleração em m/s²: \"))\n",
    "tempo_percurso = float(input(\"Digite o tempo do percurso em segundos: \"))\n",
    "velocidade_final = (velocidade_inicial + aceleracao * tempo_percurso) * 3.6\n",
    "\n",
    "print(\"A velocidade final é\", velocidade_final, \"Km/h \\n\")"
   ]
  },
  {
   "cell_type": "code",
   "execution_count": 9,
   "id": "ffce412c",
   "metadata": {},
   "outputs": [
    {
     "name": "stdout",
     "output_type": "stream",
     "text": [
      "Cotação do dólar\n",
      "O valor, em reais, é R$ 56.5 \n",
      "\n"
     ]
    }
   ],
   "source": [
    "#1.15\n",
    "\n",
    "print(\"Cotação do dólar\")\n",
    "cotacao = float(input(\"Digite a cotação atual de um dólar em reais: \"))\n",
    "quantia_reais = float(input(\"Digite o valor a ser convertido para reais: \"))\n",
    "valor_convertido = quantia_reais * cotacao \n",
    "\n",
    "print(\"O valor, em reais, é R$\",valor_convertido, \"\\n\")"
   ]
  },
  {
   "cell_type": "code",
   "execution_count": 23,
   "id": "ce56f269",
   "metadata": {},
   "outputs": [
    {
     "name": "stdout",
     "output_type": "stream",
     "text": [
      "Funções trigonométricas\n",
      "O seno de 90.0 grau(s), é 1.0\n",
      "O cosseno de 90.0 grau(s), é 0.0\n",
      "A tangente de 90.0 grau(s), é 1.633123935319537e+16\n",
      "A secante de 90.0 grau(s), é 1.633123935319537e+16\n"
     ]
    }
   ],
   "source": [
    "#1.16\n",
    "\n",
    "print(\"Funções trigonométricas\")\n",
    "angulograu = float(input(\"Digite o ângulo em graus: \"))\n",
    "angulorad = angulograu * math.pi / 180\n",
    "print(\"O seno de\", angulograu, \"grau(s), é\", round(math.sin(angulorad), 2))\n",
    "print(\"O cosseno de\", angulograu, \"grau(s), é\", round(math.cos(angulorad), 2))\n",
    "print(\"A tangente de\", angulograu, \"grau(s), é\", round(math.tan(angulorad), 2))\n",
    "print(\"A secante de\", angulograu, \"grau(s), é\", round(1/math.cos(angulorad), 2))"
   ]
  },
  {
   "cell_type": "code",
   "execution_count": null,
   "id": "da4cd13d",
   "metadata": {},
   "outputs": [
    {
     "name": "stdout",
     "output_type": "stream",
     "text": [
      "Exponencial\n",
      "2.0 elevado a 3.0 resulta em 8.0\n",
      "Com log natural:\n",
      "2.0 elevado a 3.0 resulta em 8.0\n"
     ]
    }
   ],
   "source": [
    "#1.17\n",
    "\n",
    "print(\"Exponencial\")\n",
    "num1 = float(input(\"Digite o primeiro numero: \"))\n",
    "num2 = float(input(\"Digite o segundo numero: \"))\n",
    "elevado = num1 ** num2 \n",
    "\n",
    "print(num1, \"elevado a\", num2, \"resulta em\", elevado)\n",
    "\n",
    "print(\"Com log natural\")\n",
    "\n",
    "elevadoln = round(math.e ** (num2 * math.log(num1)), 2)\n",
    "\n",
    "print(num1, \"elevado a\", num2, \"resulta em\", elevadoln)"
   ]
  },
  {
   "cell_type": "code",
   "execution_count": 42,
   "id": "e8c2be8f",
   "metadata": {},
   "outputs": [
    {
     "name": "stdout",
     "output_type": "stream",
     "text": [
      "Compra e troco\n",
      "Total: 15.0 , digite o valor do pagamento\n",
      "O troco é de R$ 5.0\n"
     ]
    }
   ],
   "source": [
    "#1.18 v1, com ciclo for\n",
    "\n",
    "print(\"Compra e troco\")\n",
    "produtos = [0,0,0,0,0]\n",
    "total = float(0)\n",
    "for i in range (5):\n",
    "    produtos[i] = float(input(\"Digite o valor do produto: \"))\n",
    "    total += produtos[i]\n",
    "    i+=1\n",
    "print(\"Total:\", total,\", digite o valor do pagamento\")\n",
    "pagamento = float(input(\"Valor do pagamento: \"))\n",
    "while pagamento < total:\n",
    "    pagamento = float(input(\"Valor abaixo do total, digite um valor válido: \"))\n",
    "troco = pagamento - total\n",
    "print(\"O troco é de R$\",troco)"
   ]
  },
  {
   "cell_type": "code",
   "execution_count": null,
   "id": "f62aed53",
   "metadata": {},
   "outputs": [
    {
     "name": "stdout",
     "output_type": "stream",
     "text": [
      "Compra e troco\n",
      "Total: 5.0 , digite o valor do pagamento\n",
      "O troco é de R$ 5.0\n"
     ]
    }
   ],
   "source": [
    "#1.18 v2\n",
    "\n",
    "print(\"Compra e troco\")\n",
    "valor1 = float(input(\"Digite o valor do produto 1: \"))\n",
    "valor2 = float(input(\"Digite o valor do produto 2: \"))\n",
    "valor3 = float(input(\"Digite o valor do produto 3: \"))\n",
    "valor4 = float(input(\"Digite o valor do produto 4: \"))\n",
    "valor5 = float(input(\"Digite o valor do produto 5: \"))\n",
    "totalv2 = valor1 + valor2 + valor3 + valor4 + valor5\n",
    "\n",
    "print(\"Total:\", totalv2,\", digite o valor do pagamento\")\n",
    "pagamentov2 = float(input(\"Valor do pagamento: \"))\n",
    "while pagamentov2 < totalv2:\n",
    "    pagamentov2 = float(input(\"Valor abaixo do total, digite um valor válido: \"))\n",
    "troco = pagamentov2 - totalv2\n",
    "print(\"O troco é de R$\",troco)"
   ]
  },
  {
   "cell_type": "code",
   "execution_count": 6,
   "id": "83d142a4",
   "metadata": {},
   "outputs": [
    {
     "name": "stdout",
     "output_type": "stream",
     "text": [
      "Nota para aprovação\n",
      "Sua segunda nota deve ser maior ou igual a  5.0\n"
     ]
    }
   ],
   "source": [
    "#1.19\n",
    "\n",
    "print(\"Nota para aprovação\")\n",
    "p1 = float(input(\"Digite a primeira nota: \"))\n",
    "while p1 > 10:\n",
    "    p1 = float(input(\"Digite a primeira nota: \"))\n",
    "p2 = (15 - p1)/2\n",
    "\n",
    "print(\"Sua segunda nota deve ser maior ou igual a \", p2)"
   ]
  }
 ],
 "metadata": {
  "kernelspec": {
   "display_name": "Python 3",
   "language": "python",
   "name": "python3"
  },
  "language_info": {
   "codemirror_mode": {
    "name": "ipython",
    "version": 3
   },
   "file_extension": ".py",
   "mimetype": "text/x-python",
   "name": "python",
   "nbconvert_exporter": "python",
   "pygments_lexer": "ipython3",
   "version": "3.11.9"
  }
 },
 "nbformat": 4,
 "nbformat_minor": 5
}
